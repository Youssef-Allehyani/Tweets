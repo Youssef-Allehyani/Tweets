{
 "cells": [
  {
   "cell_type": "markdown",
   "metadata": {},
   "source": [
    "# Tweets Sentiment Analysis\n",
    "\n",
    "**Sentiment Analysis**: Social media can be a great place to connect with others and share positive thoughts and experiences. However, it can also be a breeding ground for negativity and hate speech. This project aims to develop a system to rank tweets by kindness in order to promote more positive and supportive online interactions.\n",
    "\n",
    "**Benefits:**\n",
    "\n",
    "The proposed system has the potential to provide a number of benefits, including:\n",
    "\n",
    "- Promoting more positive and supportive online interactions\n",
    "- Reducing the spread of negativity and hate speech\n",
    "- Helping people to find and connect with others who share their values\n",
    "- Making social media a more enjoyable and welcoming place for everyone\n",
    "\n",
    "**Dataset**:\n",
    "\n",
    "1. `tweets.txt` - a list of tweets (one per line)\n",
    "1. `words_positive.txt` - a list of positive words like \"love,\" \"compassion,\" and \"gratitude\"\n",
    "1. `words_negative.txt` - a list of negative words like \"hate,\" \"anger,\" and \"fear\"\n",
    "\n",
    "**Requirements:**\n",
    "\n",
    "The proposed system will use sentiment analysis to identify and rank tweets based on their level of positiveness and negativeness.\n",
    "\n",
    "The system should display the tweets sorted by their score, with the most positive tweets first."
   ]
  },
  {
   "cell_type": "code",
   "execution_count": 1,
   "metadata": {},
   "outputs": [],
   "source": [
    "import pandas as pd \n",
    "import os "
   ]
  },
  {
   "cell_type": "code",
   "execution_count": 2,
   "metadata": {},
   "outputs": [
    {
     "name": "stdout",
     "output_type": "stream",
     "text": [
      "\n",
      "Grateful for the amazing people in my life who make it so wonderful\n",
      "\n",
      "The beautiful flowers were in full bloom and the sweet scent filled the air. The birds were singing merrily and the sun was shining brightly. It was a perfect day\n",
      "\n",
      "The kind and generous old man was always willing to help others. He was a role model for the entire community and he was loved by everyone\n",
      "\n",
      "The intelligent and talented young woman had a bright future ahead of her. She was passionate about her work and she was determined to make a difference in the world\n",
      "\n",
      "Sending out good vibes to everyone today! Have a beautiful day!\n",
      "\n",
      "I've been feeling so anxious and stressed lately with everything going on. Really need a break from it all.\n",
      "\n",
      "Traffic was the worst it's ever been today. The long commute just made me feel grumpy and drained.\n",
      "\n",
      "Had an awful morning - overslept and missed my first meeting. Feeling uneasy about how my boss will react.\n",
      "\n",
      "All the noise from the construction outside is driving me nuts. It's making working from home dreadful.\n",
      "\n",
      "Went out with some friends last night but didn't have as much fun as I thought. Felt a bit lonely and left early feeling uneasy.\n"
     ]
    }
   ],
   "source": [
    "with open('tweets.txt') as f:\n",
    "    read = f.read()\n",
    "    print(read)"
   ]
  },
  {
   "cell_type": "code",
   "execution_count": null,
   "metadata": {},
   "outputs": [],
   "source": []
  }
 ],
 "metadata": {
  "kernelspec": {
   "display_name": "Python 3.10 (tensorflow)",
   "language": "python",
   "name": "tensorflow"
  },
  "language_info": {
   "codemirror_mode": {
    "name": "ipython",
    "version": 3
   },
   "file_extension": ".py",
   "mimetype": "text/x-python",
   "name": "python",
   "nbconvert_exporter": "python",
   "pygments_lexer": "ipython3",
   "version": "3.10.8"
  }
 },
 "nbformat": 4,
 "nbformat_minor": 2
}
