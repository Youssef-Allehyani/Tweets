{
 "cells": [
  {
   "cell_type": "markdown",
   "metadata": {},
   "source": [
    "# Tweets Sentiment Analysis\n",
    "\n",
    "**Sentiment Analysis**: Social media can be a great place to connect with others and share positive thoughts and experiences. However, it can also be a breeding ground for negativity and hate speech. This project aims to develop a system to rank tweets by kindness in order to promote more positive and supportive online interactions.\n",
    "\n",
    "**Benefits:**\n",
    "\n",
    "The proposed system has the potential to provide a number of benefits, including:\n",
    "\n",
    "- Promoting more positive and supportive online interactions\n",
    "- Reducing the spread of negativity and hate speech\n",
    "- Helping people to find and connect with others who share their values\n",
    "- Making social media a more enjoyable and welcoming place for everyone\n",
    "\n",
    "**Dataset**:\n",
    "\n",
    "1. `tweets.txt` - a list of tweets (one per line)\n",
    "1. `words_positive.txt` - a list of positive words like \"love,\" \"compassion,\" and \"gratitude\"\n",
    "1. `words_negative.txt` - a list of negative words like \"hate,\" \"anger,\" and \"fear\"\n",
    "\n",
    "**Requirements:**\n",
    "\n",
    "The proposed system will use sentiment analysis to identify and rank tweets based on their level of positiveness and negativeness.\n",
    "\n",
    "The system should display the tweets sorted by their score, with the most positive tweets first."
   ]
  },
  {
   "cell_type": "code",
   "execution_count": 1,
   "metadata": {},
   "outputs": [],
   "source": [
    "import pandas as pd \n",
    "import os "
   ]
  },
  {
   "cell_type": "code",
   "execution_count": 3,
   "metadata": {},
   "outputs": [],
   "source": [
    "positive_tweets_list = []\n",
    "negative_tweets_list = []\n",
    "natural_tweets_list = []\n",
    "positive_list = []\n",
    "negative_list = []\n",
    "\n",
    "\n",
    "\n",
    "with open('words_negative.txt') as f :\n",
    "    for word in f.readlines() :\n",
    "        word = word.rstrip()\n",
    "        negative_list.append(word)\n",
    "        \n",
    "with open('words_positive.txt') as f :\n",
    "    for word in f.readlines() :\n",
    "        word = word.rstrip()\n",
    "        positive_list.append(word)\n",
    "\n",
    "with open('tweets.txt') as f:\n",
    "    for tweet in f.readlines() :\n",
    "        tweet = tweet.rstrip()\n",
    "        scor = 0\n",
    "        for word in tweet.split():\n",
    "            if word in negative_list:\n",
    "                scor -= 1\n",
    "            elif word in positive_list:\n",
    "                scor +=1  \n",
    "        if scor > 0: \n",
    "            positive_tweets_list.append(tweet)\n",
    "        elif scor <0:\n",
    "            negative_tweets_list.append(tweet)    \n",
    "        else:\n",
    "            natural_tweets_list.append(tweet)    \n",
    "\n",
    "\n",
    "\n",
    "\n",
    "    \n",
    "\n",
    "\n",
    "      "
   ]
  },
  {
   "cell_type": "code",
   "execution_count": null,
   "metadata": {},
   "outputs": [],
   "source": []
  }
 ],
 "metadata": {
  "kernelspec": {
   "display_name": "Python 3",
   "language": "python",
   "name": "python3"
  },
  "language_info": {
   "codemirror_mode": {
    "name": "ipython",
    "version": 3
   },
   "file_extension": ".py",
   "mimetype": "text/x-python",
   "name": "python",
   "nbconvert_exporter": "python",
   "pygments_lexer": "ipython3",
   "version": "3.9.0"
  }
 },
 "nbformat": 4,
 "nbformat_minor": 2
}
