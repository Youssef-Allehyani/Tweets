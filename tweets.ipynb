{
 "cells": [
  {
   "cell_type": "markdown",
   "metadata": {},
   "source": [
    "# Tweets Sentiment Analysis\n",
    "\n",
    "**Sentiment Analysis**: Social media can be a great place to connect with others and share positive thoughts and experiences. However, it can also be a breeding ground for negativity and hate speech. This project aims to develop a system to rank tweets by kindness in order to promote more positive and supportive online interactions.\n",
    "\n",
    "**Benefits:**\n",
    "\n",
    "The proposed system has the potential to provide a number of benefits, including:\n",
    "\n",
    "- Promoting more positive and supportive online interactions\n",
    "- Reducing the spread of negativity and hate speech\n",
    "- Helping people to find and connect with others who share their values\n",
    "- Making social media a more enjoyable and welcoming place for everyone\n",
    "\n",
    "**Dataset**:\n",
    "\n",
    "1. `tweets.txt` - a list of tweets (one per line)\n",
    "1. `words_positive.txt` - a list of positive words like \"love,\" \"compassion,\" and \"gratitude\"\n",
    "1. `words_negative.txt` - a list of negative words like \"hate,\" \"anger,\" and \"fear\"\n",
    "\n",
    "**Requirements:**\n",
    "\n",
    "The proposed system will use sentiment analysis to identify and rank tweets based on their level of positiveness and negativeness.\n",
    "\n",
    "The system should display the tweets sorted by their score, with the most positive tweets first."
   ]
  },
  {
   "cell_type": "code",
   "execution_count": 1,
   "metadata": {},
   "outputs": [],
   "source": [
    "import pandas as pd \n",
    "import os "
   ]
  },
  {
   "cell_type": "code",
   "execution_count": 48,
   "metadata": {},
   "outputs": [
    {
     "ename": "TypeError",
     "evalue": "'str' object does not support item assignment",
     "output_type": "error",
     "traceback": [
      "\u001b[1;31m---------------------------------------------------------------------------\u001b[0m",
      "\u001b[1;31mTypeError\u001b[0m                                 Traceback (most recent call last)",
      "Cell \u001b[1;32mIn[48], line 35\u001b[0m\n\u001b[0;32m     33\u001b[0m         score \u001b[38;5;241m+\u001b[39m\u001b[38;5;241m=\u001b[39m \u001b[38;5;241m1\u001b[39m\n\u001b[0;32m     34\u001b[0m         word_index \u001b[38;5;241m=\u001b[39m tweet\u001b[38;5;241m.\u001b[39mindex(word)\n\u001b[1;32m---> 35\u001b[0m         \u001b[43mtweet\u001b[49m\u001b[43m[\u001b[49m\u001b[43mword_index\u001b[49m\u001b[43m]\u001b[49m \u001b[38;5;241m=\u001b[39m \u001b[38;5;124m'\u001b[39m\u001b[38;5;130;01m\\033\u001b[39;00m\u001b[38;5;124m[31m\u001b[39m\u001b[38;5;124m'\u001b[39m \u001b[38;5;241m+\u001b[39m word \u001b[38;5;241m+\u001b[39m \u001b[38;5;124m'\u001b[39m\u001b[38;5;130;01m\\033\u001b[39;00m\u001b[38;5;124m[37m\u001b[39m\u001b[38;5;124m'\u001b[39m\n\u001b[0;32m     36\u001b[0m \u001b[38;5;28;01mif\u001b[39;00m score \u001b[38;5;241m>\u001b[39m \u001b[38;5;241m0\u001b[39m: \n\u001b[0;32m     37\u001b[0m     positive_tweets_list\u001b[38;5;241m.\u001b[39mappend((tweet,score,\u001b[38;5;124m'\u001b[39m\u001b[38;5;124mpositive\u001b[39m\u001b[38;5;124m'\u001b[39m))\n",
      "\u001b[1;31mTypeError\u001b[0m: 'str' object does not support item assignment"
     ]
    }
   ],
   "source": [
    "# list creation\n",
    "positive_tweets_list = []\n",
    "negative_tweets_list = []\n",
    "natural_tweets_list = []\n",
    "positive_words_list = []\n",
    "negative_words_list = []\n",
    "\n",
    "# append words from negative words file to negative words list\n",
    "with open('words_negative.txt') as f :\n",
    "    for word in f.readlines() :\n",
    "        word = word.rstrip()\n",
    "        negative_words_list.append(word)\n",
    "        \n",
    "# append words from positive words file to positive words list\n",
    "with open('words_positive.txt') as f :\n",
    "    for word in f.readlines() :\n",
    "        word = word.rstrip()\n",
    "        positive_words_list.append(word)\n",
    "\n",
    "# classify tweets\n",
    "with open('tweets.txt') as f:\n",
    "    for tweet in f.readlines() :\n",
    "        tweet = tweet.rstrip()\n",
    "        if tweet == '' :\n",
    "            continue\n",
    "        score = 0\n",
    "        for word in tweet.split():\n",
    "            if word in negative_words_list:\n",
    "                score -= 1\n",
    "                tweet.replace()\n",
    "                word_index = tweet.index(word)\n",
    "                tweet[word_index] = '\\033[31m' + word + '\\033[37m'\n",
    "            if word in positive_words_list:\n",
    "                score += 1\n",
    "                word_index = tweet.index(word)\n",
    "                tweet[word_index] = '\\033[31m' + word + '\\033[37m'\n",
    "        if score > 0: \n",
    "            positive_tweets_list.append((tweet,score,'positive'))\n",
    "        elif score < 0:\n",
    "            negative_tweets_list.append((tweet,score, 'negative'))    \n",
    "        else:\n",
    "            natural_tweets_list.append((tweet,score, 'natural'))\n",
    "\n",
    "# sort the lists based on score\n",
    "positive_tweets_list.sort(key=lambda tweet : tweet[1], reverse=True)\n",
    "negative_tweets_list.sort(key=lambda tweet : tweet[1], reverse=True)\n",
    "\n",
    "# result\n",
    "for tweet,score,sentiment in positive_tweets_list :\n",
    "    print(f'Tweet : {tweet}\\nscore = {score}\\nsentiment : {sentiment}\\n----------------------')\n",
    "for tweet,score,sentiment in negative_tweets_list :\n",
    "    print(f'Tweet : {tweet}\\nscore = {score}\\nsentiment : {sentiment}\\n----------------------')\n",
    "print(f'Number of positive tweets : {len(positive_tweets_list)}')\n",
    "print(f'Number of negative tweets : {len(negative_tweets_list)}')\n",
    "print(f'Number of natural tweets : {len(natural_tweets_list)}')"
   ]
  }
 ],
 "metadata": {
  "kernelspec": {
   "display_name": "Python 3",
   "language": "python",
   "name": "python3"
  },
  "language_info": {
   "codemirror_mode": {
    "name": "ipython",
    "version": 3
   },
   "file_extension": ".py",
   "mimetype": "text/x-python",
   "name": "python",
   "nbconvert_exporter": "python",
   "pygments_lexer": "ipython3",
   "version": "3.9.0"
  }
 },
 "nbformat": 4,
 "nbformat_minor": 2
}
